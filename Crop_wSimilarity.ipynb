{
 "cells": [
  {
   "cell_type": "code",
   "execution_count": 66,
   "id": "8eba1410",
   "metadata": {},
   "outputs": [],
   "source": [
    "import numpy as np\n",
    "import mrcfile as mrc\n",
    "import matplotlib.pylab as plt"
   ]
  },
  {
   "cell_type": "code",
   "execution_count": 4,
   "id": "0f21c145",
   "metadata": {},
   "outputs": [],
   "source": [
    "\"p1 && p2 are 2 patches, laplace smoothing should smaller than 2 magnitute of mean of patches\"\n",
    "def patchSimilarity(p1, p2, laplace = 0.5):\n",
    "    mu1 = np.mean(p1)\n",
    "    mu2 = np.mean(p2)\n",
    "    std1 = np.std(p1)\n",
    "    std2 = np.std(p2)\n",
    "    cov = np.mean(np.cov(p1,p2))\n",
    "    SSIM = (2*mu1*mu2 + laplace)*(2*cov + laplace)/((mu1**2 + mu2**2 + laplace)*(std1**2 + std2**2 + laplace))\n",
    "    return SSIM"
   ]
  },
  {
   "cell_type": "code",
   "execution_count": 2,
   "id": "949561de",
   "metadata": {},
   "outputs": [],
   "source": [
    "class Crop(object):\n",
    "    def __init__(self, output_size):\n",
    "        assert isinstance(output_size, (int, tuple))\n",
    "        if isinstance(output_size, int):\n",
    "            self.output_size = (output_size, output_size)\n",
    "        else:\n",
    "            assert len(output_size) == 2\n",
    "            self.output_size = output_size\n",
    "\n",
    "    def __call__(self, image, pos, stride = 2):\n",
    "\n",
    "        h, w = image.shape[:2]\n",
    "        new_h, new_w = self.output_size\n",
    "\n",
    "        top = np.random.randint(0, h - new_h)\n",
    "        left = np.random.randint(0, w - new_w)\n",
    "\n",
    "        image = image[top: top + new_h,\n",
    "                      left: left + new_w]\n",
    "\n",
    "        return image"
   ]
  },
  {
   "cell_type": "code",
   "execution_count": 35,
   "id": "def08b52",
   "metadata": {},
   "outputs": [],
   "source": [
    "\"assume input has one image with single channel\"\n",
    "def patch(image, out_size, stride = 2):\n",
    "    h, w = image.shape[:2]\n",
    "    out_h, out_w = out_size\n",
    "    n_H = int(1 + (h - out_h) / stride)\n",
    "    n_W = int(1 + (w - out_w) / stride) \n",
    "    \n",
    "    crop_imgs = []\n",
    "    for h in range(n_H):\n",
    "        vert_start = h*stride \n",
    "        vert_end = h*stride + out_h\n",
    "        for w in range(n_W):\n",
    "            horiz_start = w*stride\n",
    "            horiz_end = w*stride + out_w\n",
    "            \n",
    "            crop_pad = image[vert_start:vert_end,horiz_start:horiz_end]\n",
    "            crop_imgs.append(crop_pad)\n",
    "    return crop_imgs"
   ]
  },
  {
   "cell_type": "code",
   "execution_count": 11,
   "id": "7cdef98f",
   "metadata": {},
   "outputs": [],
   "source": [
    "def sub_patch(sub_img, sub_num, thre = 0.5):\n",
    "    h, w = sub_img.shape[:2]\n",
    "    seg_num = int(np.sqrt(sub_num))\n",
    "    seg_h = h//seg_num\n",
    "    seg_w = w//seg_num\n",
    "    \n",
    "    sub_patch = []\n",
    "    for i in range(seg_num):\n",
    "        for j in range(seg_num):\n",
    "            sub_pad = sub_img[i*seg_h:(i+1)*seg_h,j*seg_w:(j+1)*seg_h]\n",
    "            sub_patch.append(sub_pad)\n",
    "    return sub_patch"
   ]
  },
  {
   "cell_type": "code",
   "execution_count": 59,
   "id": "d08a76f6",
   "metadata": {},
   "outputs": [],
   "source": [
    "def crop_patch(image, out_size, sub_num):\n",
    "    patches = patch(image, out_size)\n",
    "    noise_p = []\n",
    "    for i in patches:\n",
    "        sub_p = sub_patch(i, sub_num)\n",
    "        \n",
    "        score_list = [[] for i in range(len(sub_p))]\n",
    "        for m in range(len(sub_p)):\n",
    "            for n in range(m+1, len(sub_p)):\n",
    "                score = patchSimilarity(sub_p[m], sub_p[n])\n",
    "                score_list[m].append(score)\n",
    "                score_list[n].append(score)\n",
    "        score_list = np.array(score_list)\n",
    "        for s in range(len(score_list)):\n",
    "            if np.all(score_list[s]):\n",
    "                noise_p.append(sub_p[s])\n",
    "    return noise_p"
   ]
  },
  {
   "cell_type": "code",
   "execution_count": 70,
   "id": "3b8cb8d7",
   "metadata": {},
   "outputs": [],
   "source": [
    "mrc_data = mrc.open('HSP90_6830.mrcs',mode = 'r+')"
   ]
  },
  {
   "cell_type": "code",
   "execution_count": 73,
   "id": "bd3877e7",
   "metadata": {},
   "outputs": [],
   "source": [
    "mrc_mat = mrc_data.data"
   ]
  },
  {
   "cell_type": "code",
   "execution_count": 60,
   "id": "66775295",
   "metadata": {},
   "outputs": [],
   "source": [
    "c = crop_patch(mrc_mat[0], (32,32), 4)"
   ]
  },
  {
   "cell_type": "code",
   "execution_count": 64,
   "id": "1aaa7fb8",
   "metadata": {
    "scrolled": true
   },
   "outputs": [
    {
     "name": "stdout",
     "output_type": "stream",
     "text": [
      "(9604, 16, 16)\n"
     ]
    }
   ],
   "source": [
    "print(np.shape(c))"
   ]
  },
  {
   "cell_type": "code",
   "execution_count": 69,
   "id": "26df2761",
   "metadata": {},
   "outputs": [
    {
     "data": {
      "text/plain": [
       "<matplotlib.image.AxesImage at 0x1b723d38460>"
      ]
     },
     "execution_count": 69,
     "metadata": {},
     "output_type": "execute_result"
    },
    {
     "data": {
      "image/png": "[encoded data removed]",
      "text/plain": [
       "<Figure size 432x288 with 1 Axes>"
      ]
     },
     "metadata": {
      "needs_background": "light"
     },
     "output_type": "display_data"
    }
   ],
   "source": [
    "plt.imshow(c[19])"
   ]
  }
 ],
 "metadata": {
  "kernelspec": {
   "display_name": "Python 3",
   "language": "python",
   "name": "python3"
  },
  "language_info": {
   "codemirror_mode": {
    "name": "ipython",
    "version": 3
   },
   "file_extension": ".py",
   "mimetype": "text/x-python",
   "name": "python",
   "nbconvert_exporter": "python",
   "pygments_lexer": "ipython3",
   "version": "3.8.8"
  }
 },
 "nbformat": 4,
 "nbformat_minor": 5
}
